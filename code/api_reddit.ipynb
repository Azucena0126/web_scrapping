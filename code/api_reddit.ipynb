{
 "cells": [
  {
   "cell_type": "markdown",
   "id": "633cb811-c839-4b13-acd8-9f6bff42685a",
   "metadata": {},
   "source": [
    "# Exercise 1: Reddit API Data Collection\n",
    "\n",
    "- Objective: Collect post and comment data from political subreddits using the Reddit API (PRAW), identify the most common posts and their comments.\n"
   ]
  },
  {
   "cell_type": "code",
   "execution_count": null,
   "id": "8386fafa-9cbc-43ca-9ec7-fab618e9d64e",
   "metadata": {},
   "outputs": [],
   "source": []
  }
 ],
 "metadata": {
  "kernelspec": {
   "display_name": "Python (selenium_en)",
   "language": "python",
   "name": "selenium_en"
  },
  "language_info": {
   "codemirror_mode": {
    "name": "ipython",
    "version": 3
   },
   "file_extension": ".py",
   "mimetype": "text/x-python",
   "name": "python",
   "nbconvert_exporter": "python",
   "pygments_lexer": "ipython3",
   "version": "3.11.13"
  }
 },
 "nbformat": 4,
 "nbformat_minor": 5
}
