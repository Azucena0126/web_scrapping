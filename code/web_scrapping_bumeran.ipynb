{
 "cells": [
  {
   "cell_type": "code",
   "execution_count": 23,
   "metadata": {},
   "outputs": [
    {
     "data": {
      "text/html": [
       "\n",
       "<style>\n",
       "    div#notebook-container    { width: 95%; }\n",
       "    div#menubar-container     { width: 65%; }\n",
       "    div#maintoolbar-container { width: 99%; }a\n",
       "</style>\n"
      ],
      "text/plain": [
       "<IPython.core.display.HTML object>"
      ]
     },
     "metadata": {},
     "output_type": "display_data"
    }
   ],
   "source": [
    "from IPython.display import display, HTML\n",
    "\n",
    "display(HTML(data=\"\"\"\n",
    "<style>\n",
    "    div#notebook-container    { width: 95%; }\n",
    "    div#menubar-container     { width: 65%; }\n",
    "    div#maintoolbar-container { width: 99%; }a\n",
    "</style>\n",
    "\"\"\"))"
   ]
  },
  {
   "cell_type": "markdown",
   "metadata": {},
   "source": [
    "### Calling Libraries"
   ]
  },
  {
   "cell_type": "code",
   "execution_count": 24,
   "metadata": {},
   "outputs": [],
   "source": [
    "# this library is to manipulate browser\n",
    "from selenium import webdriver\n",
    "\n",
    "# it allows you to work with differen versions of drivers\n",
    "# We call ChromeDriver\n",
    "from webdriver_manager.chrome import ChromeDriverManager\n",
    "import re\n",
    "import time \n",
    "from selenium.webdriver.common.by import By\n",
    "from selenium.webdriver.chrome.service import Service"
   ]
  },
  {
   "cell_type": "code",
   "execution_count": 25,
   "metadata": {},
   "outputs": [
    {
     "data": {
      "text/plain": [
       "'c:\\\\Users\\\\KikeMa\\\\Documents\\\\Azu\\\\diplomado\\\\python\\\\Ejercicios clase\\\\web_scrapping\\\\code'"
      ]
     },
     "execution_count": 25,
     "metadata": {},
     "output_type": "execute_result"
    }
   ],
   "source": [
    "pwd"
   ]
  },
  {
   "cell_type": "code",
   "execution_count": 26,
   "metadata": {},
   "outputs": [],
   "source": [
    "### ChromeDriverManager\n",
    "service = Service(ChromeDriverManager().install())\n",
    "driver = webdriver.Chrome(service=service)\n",
    "\n",
    "driver.maximize_window()\n",
    "\n",
    "url = 'https://www.bumeran.com.pe'\n",
    "driver.get(url)"
   ]
  },
  {
   "cell_type": "code",
   "execution_count": 27,
   "metadata": {},
   "outputs": [],
   "source": [
    "## 2. Task Description"
   ]
  },
  {
   "cell_type": "code",
   "execution_count": 28,
   "metadata": {},
   "outputs": [],
   "source": [
    "### Aplicando los filtros\n",
    "\n",
    "url1 = 'https://www.bumeran.com.pe/en-lima/empleos-area-tecnologia-sistemas-y-telecomunicaciones-subarea-programacion-full-time-publicacion-menor-a-15-dias.html'\n",
    "driver.get(url1)\n",
    "time.sleep(3)  # dejar que cargue la página"
   ]
  },
  {
   "cell_type": "markdown",
   "metadata": {},
   "source": [
    "## Suggested Scraping Strategy (Two Stages)\n",
    "### Desarrollamos Stage 1\n",
    "Scrape all the job listing URLs based on the filters above.\n",
    "Navigate across all pages if necessary."
   ]
  },
  {
   "cell_type": "code",
   "execution_count": 21,
   "metadata": {},
   "outputs": [
    {
     "ename": "InvalidSessionIdException",
     "evalue": "Message: invalid session id\nStacktrace:\n\tGetHandleVerifier [0x0x5ca8a3+63283]\n\tGetHandleVerifier [0x0x5ca8e4+63348]\n\t(No symbol) [0x0x403ca0]\n\t(No symbol) [0x0x43fb48]\n\t(No symbol) [0x0x4712d6]\n\t(No symbol) [0x0x46ceb5]\n\t(No symbol) [0x0x46c436]\n\t(No symbol) [0x0x3d5755]\n\t(No symbol) [0x0x3d5cae]\n\t(No symbol) [0x0x3d613d]\n\tGetHandleVerifier [0x0x83bb43+2623955]\n\tGetHandleVerifier [0x0x836daa+2604090]\n\tGetHandleVerifier [0x0x5f069a+218410]\n\tGetHandleVerifier [0x0x5e0ed8+154984]\n\tGetHandleVerifier [0x0x5e742d+180925]\n\t(No symbol) [0x0x3d5420]\n\t(No symbol) [0x0x3d4c36]\n\tGetHandleVerifier [0x0x9768fc+3913612]\n\tBaseThreadInitThunk [0x0x758c5d49+25]\n\tRtlInitializeExceptionChain [0x0x76eed6db+107]\n\tRtlGetAppContainerNamedObjectPath [0x0x76eed661+561]\n",
     "output_type": "error",
     "traceback": [
      "\u001b[31m---------------------------------------------------------------------------\u001b[39m",
      "\u001b[31mInvalidSessionIdException\u001b[39m                 Traceback (most recent call last)",
      "\u001b[36mCell\u001b[39m\u001b[36m \u001b[39m\u001b[32mIn[21]\u001b[39m\u001b[32m, line 9\u001b[39m\n\u001b[32m      6\u001b[39m time.sleep(\u001b[32m3\u001b[39m)  \u001b[38;5;66;03m# espera a que cargue la página\u001b[39;00m\n\u001b[32m      8\u001b[39m \u001b[38;5;66;03m# Selecciona los enlaces de ofertas en la página\u001b[39;00m\n\u001b[32m----> \u001b[39m\u001b[32m9\u001b[39m jobs = \u001b[43mdriver\u001b[49m\u001b[43m.\u001b[49m\u001b[43mfind_elements\u001b[49m\u001b[43m(\u001b[49m\u001b[43mBy\u001b[49m\u001b[43m.\u001b[49m\u001b[43mCSS_SELECTOR\u001b[49m\u001b[43m,\u001b[49m\u001b[43m \u001b[49m\u001b[33;43m\"\u001b[39;49m\u001b[33;43mh2.sc-eGbFzm a\u001b[39;49m\u001b[33;43m\"\u001b[39;49m\u001b[43m)\u001b[49m \n\u001b[32m     11\u001b[39m \u001b[38;5;28;01mfor\u001b[39;00m job \u001b[38;5;129;01min\u001b[39;00m jobs:\n\u001b[32m     12\u001b[39m     link = job.get_attribute(\u001b[33m\"\u001b[39m\u001b[33mhref\u001b[39m\u001b[33m\"\u001b[39m)\n",
      "\u001b[36mFile \u001b[39m\u001b[32mc:\\Users\\KikeMa\\Documents\\Azu\\diplomado\\python\\Ejercicios clase\\web_scrapping\\env\\Lib\\site-packages\\selenium\\webdriver\\remote\\webdriver.py:778\u001b[39m, in \u001b[36mWebDriver.find_elements\u001b[39m\u001b[34m(self, by, value)\u001b[39m\n\u001b[32m    774\u001b[39m     value = \u001b[33mf\u001b[39m\u001b[33m'\u001b[39m\u001b[33m[name=\u001b[39m\u001b[33m\"\u001b[39m\u001b[38;5;132;01m{\u001b[39;00mvalue\u001b[38;5;132;01m}\u001b[39;00m\u001b[33m\"\u001b[39m\u001b[33m]\u001b[39m\u001b[33m'\u001b[39m\n\u001b[32m    776\u001b[39m \u001b[38;5;66;03m# Return empty list if driver returns null\u001b[39;00m\n\u001b[32m    777\u001b[39m \u001b[38;5;66;03m# See https://github.com/SeleniumHQ/selenium/issues/4555\u001b[39;00m\n\u001b[32m--> \u001b[39m\u001b[32m778\u001b[39m \u001b[38;5;28;01mreturn\u001b[39;00m \u001b[38;5;28;43mself\u001b[39;49m\u001b[43m.\u001b[49m\u001b[43mexecute\u001b[49m\u001b[43m(\u001b[49m\u001b[43mCommand\u001b[49m\u001b[43m.\u001b[49m\u001b[43mFIND_ELEMENTS\u001b[49m\u001b[43m,\u001b[49m\u001b[43m \u001b[49m\u001b[43m{\u001b[49m\u001b[33;43m\"\u001b[39;49m\u001b[33;43musing\u001b[39;49m\u001b[33;43m\"\u001b[39;49m\u001b[43m:\u001b[49m\u001b[43m \u001b[49m\u001b[43mby\u001b[49m\u001b[43m,\u001b[49m\u001b[43m \u001b[49m\u001b[33;43m\"\u001b[39;49m\u001b[33;43mvalue\u001b[39;49m\u001b[33;43m\"\u001b[39;49m\u001b[43m:\u001b[49m\u001b[43m \u001b[49m\u001b[43mvalue\u001b[49m\u001b[43m}\u001b[49m\u001b[43m)\u001b[49m[\u001b[33m\"\u001b[39m\u001b[33mvalue\u001b[39m\u001b[33m\"\u001b[39m] \u001b[38;5;129;01mor\u001b[39;00m []\n",
      "\u001b[36mFile \u001b[39m\u001b[32mc:\\Users\\KikeMa\\Documents\\Azu\\diplomado\\python\\Ejercicios clase\\web_scrapping\\env\\Lib\\site-packages\\selenium\\webdriver\\remote\\webdriver.py:354\u001b[39m, in \u001b[36mWebDriver.execute\u001b[39m\u001b[34m(self, driver_command, params)\u001b[39m\n\u001b[32m    352\u001b[39m response = \u001b[38;5;28mself\u001b[39m.command_executor.execute(driver_command, params)\n\u001b[32m    353\u001b[39m \u001b[38;5;28;01mif\u001b[39;00m response:\n\u001b[32m--> \u001b[39m\u001b[32m354\u001b[39m     \u001b[38;5;28;43mself\u001b[39;49m\u001b[43m.\u001b[49m\u001b[43merror_handler\u001b[49m\u001b[43m.\u001b[49m\u001b[43mcheck_response\u001b[49m\u001b[43m(\u001b[49m\u001b[43mresponse\u001b[49m\u001b[43m)\u001b[49m\n\u001b[32m    355\u001b[39m     response[\u001b[33m\"\u001b[39m\u001b[33mvalue\u001b[39m\u001b[33m\"\u001b[39m] = \u001b[38;5;28mself\u001b[39m._unwrap_value(response.get(\u001b[33m\"\u001b[39m\u001b[33mvalue\u001b[39m\u001b[33m\"\u001b[39m, \u001b[38;5;28;01mNone\u001b[39;00m))\n\u001b[32m    356\u001b[39m     \u001b[38;5;28;01mreturn\u001b[39;00m response\n",
      "\u001b[36mFile \u001b[39m\u001b[32mc:\\Users\\KikeMa\\Documents\\Azu\\diplomado\\python\\Ejercicios clase\\web_scrapping\\env\\Lib\\site-packages\\selenium\\webdriver\\remote\\errorhandler.py:229\u001b[39m, in \u001b[36mErrorHandler.check_response\u001b[39m\u001b[34m(self, response)\u001b[39m\n\u001b[32m    227\u001b[39m         alert_text = value[\u001b[33m\"\u001b[39m\u001b[33malert\u001b[39m\u001b[33m\"\u001b[39m].get(\u001b[33m\"\u001b[39m\u001b[33mtext\u001b[39m\u001b[33m\"\u001b[39m)\n\u001b[32m    228\u001b[39m     \u001b[38;5;28;01mraise\u001b[39;00m exception_class(message, screen, stacktrace, alert_text)  \u001b[38;5;66;03m# type: ignore[call-arg]  # mypy is not smart enough here\u001b[39;00m\n\u001b[32m--> \u001b[39m\u001b[32m229\u001b[39m \u001b[38;5;28;01mraise\u001b[39;00m exception_class(message, screen, stacktrace)\n",
      "\u001b[31mInvalidSessionIdException\u001b[39m: Message: invalid session id\nStacktrace:\n\tGetHandleVerifier [0x0x5ca8a3+63283]\n\tGetHandleVerifier [0x0x5ca8e4+63348]\n\t(No symbol) [0x0x403ca0]\n\t(No symbol) [0x0x43fb48]\n\t(No symbol) [0x0x4712d6]\n\t(No symbol) [0x0x46ceb5]\n\t(No symbol) [0x0x46c436]\n\t(No symbol) [0x0x3d5755]\n\t(No symbol) [0x0x3d5cae]\n\t(No symbol) [0x0x3d613d]\n\tGetHandleVerifier [0x0x83bb43+2623955]\n\tGetHandleVerifier [0x0x836daa+2604090]\n\tGetHandleVerifier [0x0x5f069a+218410]\n\tGetHandleVerifier [0x0x5e0ed8+154984]\n\tGetHandleVerifier [0x0x5e742d+180925]\n\t(No symbol) [0x0x3d5420]\n\t(No symbol) [0x0x3d4c36]\n\tGetHandleVerifier [0x0x9768fc+3913612]\n\tBaseThreadInitThunk [0x0x758c5d49+25]\n\tRtlInitializeExceptionChain [0x0x76eed6db+107]\n\tRtlGetAppContainerNamedObjectPath [0x0x76eed661+561]\n"
     ]
    }
   ],
   "source": [
    "from selenium.webdriver.common.by import By\n",
    "\n",
    "job_links = []\n",
    "\n",
    "while True:\n",
    "    time.sleep(3)  # espera a que cargue la página\n",
    "    \n",
    "    # Selecciona los enlaces de ofertas en la página\n",
    "    jobs = driver.find_elements(By.CSS_SELECTOR, \"h2.sc-eGbFzm a\") \n",
    "    \n",
    "    for job in jobs:\n",
    "        link = job.get_attribute(\"href\")\n",
    "        if link and link.startswith(\"http\"):\n",
    "            job_links.append(link)\n",
    "\n",
    "    # Intentar pasar a la siguiente página\n",
    "    try:\n",
    "        next_btn = driver.find_element(By.CSS_SELECTOR, \"a[aria-label='Siguiente']\")\n",
    "        driver.execute_script(\"arguments[0].click();\", next_btn)\n",
    "    except:\n",
    "        print(\"✅ No hay más páginas\")\n",
    "        break\n",
    "\n",
    "# Eliminar duplicados\n",
    "job_links = list(set(job_links))\n",
    "print(f\"Se encontraron {len(job_links)} ofertas\")\n"
   ]
  },
  {
   "cell_type": "code",
   "execution_count": 31,
   "metadata": {},
   "outputs": [
    {
     "name": "stdout",
     "output_type": "stream",
     "text": [
      "✅ No hay más páginas\n",
      "Se encontraron 4 ofertas\n"
     ]
    }
   ],
   "source": [
    "from selenium.webdriver.common.by import By\n",
    "from selenium.webdriver.support.ui import WebDriverWait\n",
    "from selenium.webdriver.support import expected_conditions as EC\n",
    "\n",
    "job_links = []\n",
    "wait = WebDriverWait(driver, 100)\n",
    "\n",
    "while True:\n",
    "    # Espera a que se carguen los títulos de ofertas\n",
    "    jobs = wait.until(\n",
    "    EC.presence_of_all_elements_located((By.XPATH, \"//h2//a\")))\n",
    "\n",
    "    \n",
    "    for job in jobs:\n",
    "        link = job.get_attribute(\"href\")\n",
    "        if link and link.startswith(\"http\"):\n",
    "            job_links.append(link)\n",
    "\n",
    "    # Intentar pasar a la siguiente página\n",
    "    try:\n",
    "        next_btn = driver.find_element(By.CSS_SELECTOR, \"a[aria-label='Siguiente']\")\n",
    "        driver.execute_script(\"arguments[0].click();\", next_btn)\n",
    "    except:\n",
    "        print(\"✅ No hay más páginas\")\n",
    "        break\n",
    "\n",
    "# Eliminar duplicados\n",
    "job_links = list(set(job_links))\n",
    "print(f\"Se encontraron {len(job_links)} ofertas\")\n"
   ]
  },
  {
   "cell_type": "code",
   "execution_count": 42,
   "metadata": {},
   "outputs": [
    {
     "name": "stdout",
     "output_type": "stream",
     "text": [
      "✅ No hay más páginas\n",
      "Stage 1 completado: 4 links guardados en stage1_job_links.csv\n"
     ]
    }
   ],
   "source": [
    "from selenium import webdriver\n",
    "from selenium.webdriver.chrome.service import Service\n",
    "from selenium.webdriver.chrome.options import Options\n",
    "from webdriver_manager.chrome import ChromeDriverManager\n",
    "from selenium.webdriver.common.by import By\n",
    "from selenium.webdriver.support.ui import WebDriverWait\n",
    "from selenium.webdriver.support import expected_conditions as EC\n",
    "import time\n",
    "import pandas as pd\n",
    "\n",
    "options = Options()\n",
    "options.add_argument(\"--start-maximized\")\n",
    "\n",
    "driver = webdriver.Chrome(service=Service(ChromeDriverManager().install()), options=options)\n",
    "driver.get(\"https://www.bumeran.com.pe/en-lima/empleos-area-tecnologia-sistemas-y-telecomunicaciones-subarea-programacion-full-time-publicacion-menor-a-15-dias.html\")\n",
    "\n",
    "wait = WebDriverWait(driver, 15)\n",
    "job_links = []\n",
    "\n",
    "while True:\n",
    "    # 👇 Scroll progresivo para cargar más empleos\n",
    "    for i in range(5):  # prueba con 5, si aún da pocos sube a 8 o 10\n",
    "        driver.execute_script(f\"window.scrollTo(0, {i*2000});\")\n",
    "        time.sleep(1.5)\n",
    "\n",
    "    # Espera que aparezcan los links\n",
    "    jobs = wait.until(\n",
    "        EC.presence_of_all_elements_located((By.XPATH, \"//h2//a\"))\n",
    "    )\n",
    "\n",
    "    for job in jobs:\n",
    "        link = job.get_attribute(\"href\")\n",
    "        if link and link.startswith(\"http\"):\n",
    "            job_links.append(link)\n",
    "\n",
    "    # Intentar pasar a la siguiente página\n",
    "    try:\n",
    "        next_btn = driver.find_element(By.CSS_SELECTOR, \"a[aria-label='Siguiente']\")\n",
    "        driver.execute_script(\"arguments[0].click();\", next_btn)\n",
    "        time.sleep(3)\n",
    "    except:\n",
    "        print(\"✅ No hay más páginas\")\n",
    "        break\n",
    "\n",
    "# Eliminar duplicados\n",
    "job_links = list(set(job_links))\n",
    "\n",
    "# Guardar en CSV\n",
    "df = pd.DataFrame(job_links, columns=[\"Job_URL\"])\n",
    "df.to_csv(\"stage1_job_links.csv\", index=False, encoding=\"utf-8-sig\")\n",
    "\n",
    "print(f\"Stage 1 completado: {len(job_links)} links guardados en stage1_job_links.csv\")\n"
   ]
  }
 ],
 "metadata": {
  "hide_input": false,
  "kernelspec": {
   "display_name": "env",
   "language": "python",
   "name": "python3"
  },
  "language_info": {
   "codemirror_mode": {
    "name": "ipython",
    "version": 3
   },
   "file_extension": ".py",
   "mimetype": "text/x-python",
   "name": "python",
   "nbconvert_exporter": "python",
   "pygments_lexer": "ipython3",
   "version": "3.11.13"
  },
  "toc": {
   "base_numbering": 1,
   "nav_menu": {},
   "number_sections": true,
   "sideBar": true,
   "skip_h1_title": false,
   "title_cell": "Table of Contents",
   "title_sidebar": "Contents",
   "toc_cell": false,
   "toc_position": {},
   "toc_section_display": true,
   "toc_window_display": false
  }
 },
 "nbformat": 4,
 "nbformat_minor": 4
}
