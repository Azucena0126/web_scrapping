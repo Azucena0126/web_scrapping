{
 "cells": [
  {
   "cell_type": "markdown",
   "id": "633cb811-c839-4b13-acd8-9f6bff42685a",
   "metadata": {},
   "source": [
    "# Exercise 1: Reddit API Data Collection\n",
    "\n",
    "- Objective: Collect post and comment data from political subreddits using the Reddit API (PRAW), identify the most common posts and their comments.\n"
   ]
  },
  {
   "attachments": {},
   "cell_type": "markdown",
   "id": "d3451841-aa57-40bf-874f-e162069e4faf",
   "metadata": {},
   "source": [
    "## 1. Credenciales de la API de Reddit – Cuenta de Desarrollador\n",
    "\n",
    "- client_ID: V1DKOPOnBVApEfTysCq0cA\n",
    "\n",
    "- client_secret: DXq6pofNnGcZs305LzdmPQ1HtXqQfw"
   ]
  },
  {
   "cell_type": "markdown",
   "id": "a1296959-d5ae-4c96-92aa-8b5dd8831489",
   "metadata": {},
   "source": [
    "## 2. Environment Setup\n",
    "- Install necessary libraries"
   ]
  },
  {
   "cell_type": "code",
   "execution_count": 8,
   "id": "4a4fd5ff-4443-4cf0-8e3e-d3914122c36a",
   "metadata": {
    "scrolled": true
   },
   "outputs": [
    {
     "name": "stdout",
     "output_type": "stream",
     "text": [
      "Requirement already satisfied: pandas in /Users/freddyzutachavez/anaconda3/lib/python3.11/site-packages (2.0.3)\n",
      "Requirement already satisfied: python-dateutil>=2.8.2 in /Users/freddyzutachavez/anaconda3/lib/python3.11/site-packages (from pandas) (2.8.2)\n",
      "Requirement already satisfied: pytz>=2020.1 in /Users/freddyzutachavez/anaconda3/lib/python3.11/site-packages (from pandas) (2023.3.post1)\n",
      "Requirement already satisfied: tzdata>=2022.1 in /Users/freddyzutachavez/anaconda3/lib/python3.11/site-packages (from pandas) (2023.3)\n",
      "Requirement already satisfied: numpy>=1.21.0 in /Users/freddyzutachavez/anaconda3/lib/python3.11/site-packages (from pandas) (1.24.3)\n",
      "Requirement already satisfied: six>=1.5 in /Users/freddyzutachavez/anaconda3/lib/python3.11/site-packages (from python-dateutil>=2.8.2->pandas) (1.16.0)\n"
     ]
    }
   ],
   "source": [
    "#!pip install praw\n",
    "#!pip install -U charset-normalizer\n",
    "#!pip install pandas"
   ]
  },
  {
   "cell_type": "markdown",
   "id": "ee2f8b15-5abf-431e-8031-1f76c2b51dfe",
   "metadata": {},
   "source": [
    "## 3) API Connection (PRAW)\n",
    "- Task: Use your client_id, client_secret, and a user agent to connect to the Reddit API via PRAW. You’ll also need your Reddit username and password (only for script apps).\n"
   ]
  },
  {
   "cell_type": "code",
   "execution_count": 18,
   "id": "95b641a6-ad89-4c60-a387-9c3c77a8628a",
   "metadata": {
    "scrolled": true
   },
   "outputs": [],
   "source": [
    "import praw\n",
    "import pandas as pd\n",
    "import os"
   ]
  },
  {
   "cell_type": "code",
   "execution_count": 5,
   "id": "6dee16eb-b0e8-4be8-8935-7d395355dd88",
   "metadata": {},
   "outputs": [],
   "source": [
    "# Conexión a la API de Reddit\n",
    "reddit = praw.Reddit(\n",
    "    client_id=\"V1DKOPOnBVApEfTysCq0cA\",\n",
    "    client_secret=\"DXq6pofNnGcZs305LzdmPQ1HtXqQfw\",\n",
    "    user_agent=\"Python:webscrapping_freddy:v1.0 (by /u/Ancient-Arrival8504)\",\n",
    "    username=\"Ancient-Arrival8504\",       # mi nombre de usuario en Reddit\n",
    ")"
   ]
  },
  {
   "cell_type": "markdown",
   "id": "a7eebab3-1227-4719-879e-273f4470a113",
   "metadata": {},
   "source": [
    "## 4) Collect Posts from Subreddits"
   ]
  },
  {
   "cell_type": "code",
   "execution_count": 13,
   "id": "13f5d561-dbd4-424b-b939-a11c0a406b9d",
   "metadata": {},
   "outputs": [],
   "source": [
    "# Difinimos parámetros\n",
    "subreddits = [\"politics\", \"PoliticalDiscussion\", \"worldnews\"]\n",
    "mode = \"hot\"     # \"hot\" o \"top\"\n",
    "limit = 20"
   ]
  },
  {
   "cell_type": "code",
   "execution_count": 14,
   "id": "d1b64ebe-c24d-4373-be43-cfb792015853",
   "metadata": {},
   "outputs": [],
   "source": [
    "# Recolección de la información\n",
    "\n",
    "rows = []\n",
    "for sr in subreddits:\n",
    "    s = reddit.subreddit(sr)\n",
    "    posts_iter = getattr(s, mode)(limit=limit)  # s.hot(...) o s.top(...)\n",
    "    for p in posts_iter:\n",
    "        rows.append({\n",
    "            \"subreddit\": sr,\n",
    "            \"title\": p.title,\n",
    "            \"score\": p.score,\n",
    "            \"num_comments\": p.num_comments,\n",
    "            \"id\": p.id,\n",
    "            \"url\": p.url,\n",
    "        })"
   ]
  },
  {
   "cell_type": "code",
   "execution_count": 17,
   "id": "c9a049ce-db21-4942-8f0e-f59ffb35c779",
   "metadata": {},
   "outputs": [
    {
     "name": "stdout",
     "output_type": "stream",
     "text": [
      "Guardado 60 filas en /Users/freddyzutachavez/Documents/GitHub/web_scrapping/output/posts_reddit.csv\n"
     ]
    }
   ],
   "source": [
    "# Almacenamiento\n",
    "\n",
    "output_path = \"/Users/freddyzutachavez/Documents/GitHub/web_scrapping/output/posts_reddit.csv\"\n",
    "\n",
    "df = pd.DataFrame(rows, columns=[\"subreddit\",\"title\",\"score\",\"num_comments\",\"id\",\"url\"])"
   ]
  },
  {
   "cell_type": "code",
   "execution_count": 27,
   "id": "37bf392c-01f5-4104-ad23-244ccbde859d",
   "metadata": {},
   "outputs": [
    {
     "data": {
      "text/html": [
       "<div>\n",
       "<style scoped>\n",
       "    .dataframe tbody tr th:only-of-type {\n",
       "        vertical-align: middle;\n",
       "    }\n",
       "\n",
       "    .dataframe tbody tr th {\n",
       "        vertical-align: top;\n",
       "    }\n",
       "\n",
       "    .dataframe thead th {\n",
       "        text-align: right;\n",
       "    }\n",
       "</style>\n",
       "<table border=\"1\" class=\"dataframe\">\n",
       "  <thead>\n",
       "    <tr style=\"text-align: right;\">\n",
       "      <th></th>\n",
       "      <th>subreddit</th>\n",
       "      <th>title</th>\n",
       "      <th>score</th>\n",
       "      <th>num_comments</th>\n",
       "      <th>id</th>\n",
       "      <th>url</th>\n",
       "    </tr>\n",
       "  </thead>\n",
       "  <tbody>\n",
       "    <tr>\n",
       "      <th>0</th>\n",
       "      <td>politics</td>\n",
       "      <td>Dr. Oz Splits from Trump on Tylenol After Auti...</td>\n",
       "      <td>9838</td>\n",
       "      <td>546</td>\n",
       "      <td>1nouvbe</td>\n",
       "      <td>https://www.thedailybeast.com/dr-oz-splits-fro...</td>\n",
       "    </tr>\n",
       "    <tr>\n",
       "      <th>1</th>\n",
       "      <td>politics</td>\n",
       "      <td>Charlie Kirk was a divisive far-right podcaste...</td>\n",
       "      <td>38345</td>\n",
       "      <td>3633</td>\n",
       "      <td>1noqbhr</td>\n",
       "      <td>https://www.theguardian.com/commentisfree/2025...</td>\n",
       "    </tr>\n",
       "    <tr>\n",
       "      <th>2</th>\n",
       "      <td>politics</td>\n",
       "      <td>76 percent of Americans say Trump does not des...</td>\n",
       "      <td>5631</td>\n",
       "      <td>357</td>\n",
       "      <td>1novrvc</td>\n",
       "      <td>https://www.washingtonpost.com/politics/2025/0...</td>\n",
       "    </tr>\n",
       "    <tr>\n",
       "      <th>3</th>\n",
       "      <td>politics</td>\n",
       "      <td>Unlike other Dems, AOC refuses to join in whit...</td>\n",
       "      <td>15675</td>\n",
       "      <td>510</td>\n",
       "      <td>1nonj9g</td>\n",
       "      <td>https://www.peoplesworld.org/article/unlike-ot...</td>\n",
       "    </tr>\n",
       "    <tr>\n",
       "      <th>4</th>\n",
       "      <td>politics</td>\n",
       "      <td>Trump's big UN speech received with awkward la...</td>\n",
       "      <td>26152</td>\n",
       "      <td>1641</td>\n",
       "      <td>1nok4av</td>\n",
       "      <td>https://inews.co.uk/news/world/trumps-big-un-s...</td>\n",
       "    </tr>\n",
       "  </tbody>\n",
       "</table>\n",
       "</div>"
      ],
      "text/plain": [
       "  subreddit                                              title  score  \\\n",
       "0  politics  Dr. Oz Splits from Trump on Tylenol After Auti...   9838   \n",
       "1  politics  Charlie Kirk was a divisive far-right podcaste...  38345   \n",
       "2  politics  76 percent of Americans say Trump does not des...   5631   \n",
       "3  politics  Unlike other Dems, AOC refuses to join in whit...  15675   \n",
       "4  politics  Trump's big UN speech received with awkward la...  26152   \n",
       "\n",
       "   num_comments       id                                                url  \n",
       "0           546  1nouvbe  https://www.thedailybeast.com/dr-oz-splits-fro...  \n",
       "1          3633  1noqbhr  https://www.theguardian.com/commentisfree/2025...  \n",
       "2           357  1novrvc  https://www.washingtonpost.com/politics/2025/0...  \n",
       "3           510  1nonj9g  https://www.peoplesworld.org/article/unlike-ot...  \n",
       "4          1641  1nok4av  https://inews.co.uk/news/world/trumps-big-un-s...  "
      ]
     },
     "execution_count": 27,
     "metadata": {},
     "output_type": "execute_result"
    }
   ],
   "source": [
    "df.head(5)"
   ]
  },
  {
   "cell_type": "code",
   "execution_count": null,
   "id": "ee7f92a7-59b9-4c01-b375-7b0e791c3330",
   "metadata": {},
   "outputs": [],
   "source": [
    "#Exportar csv\n",
    "df.to_csv(output_path, index=False, encoding=\"utf-8\")\n",
    "\n",
    "print(f\"Guardado {len(df)} filas en {output_path}\")"
   ]
  },
  {
   "cell_type": "markdown",
   "id": "42151058-9cdf-4147-af1b-765e9ba2772f",
   "metadata": {},
   "source": [
    "## 5. Collect Comments"
   ]
  },
  {
   "cell_type": "code",
   "execution_count": 21,
   "id": "9fea84b8-a04e-4cf5-b963-e12dceb37131",
   "metadata": {},
   "outputs": [],
   "source": [
    "# Definimos directorio de salida \n",
    "\n",
    "output_dir = \"/Users/freddyzutachavez/Documents/GitHub/web_scrapping/output\"\n",
    "posts_csv = os.path.join(output_dir, \"posts_reddit.csv\")\n",
    "comments_csv = os.path.join(output_dir, \"comments_reddit.csv\")\n"
   ]
  },
  {
   "cell_type": "code",
   "execution_count": 22,
   "id": "527f527c-94ec-474d-8869-05f749d7c891",
   "metadata": {},
   "outputs": [],
   "source": [
    "# Cargamos posts ya recolectados\n",
    "df_posts = pd.read_csv(posts_csv)"
   ]
  },
  {
   "cell_type": "code",
   "execution_count": 25,
   "id": "54ee49b5-6f9b-4833-8432-92dd3872773d",
   "metadata": {},
   "outputs": [
    {
     "data": {
      "text/html": [
       "<div>\n",
       "<style scoped>\n",
       "    .dataframe tbody tr th:only-of-type {\n",
       "        vertical-align: middle;\n",
       "    }\n",
       "\n",
       "    .dataframe tbody tr th {\n",
       "        vertical-align: top;\n",
       "    }\n",
       "\n",
       "    .dataframe thead th {\n",
       "        text-align: right;\n",
       "    }\n",
       "</style>\n",
       "<table border=\"1\" class=\"dataframe\">\n",
       "  <thead>\n",
       "    <tr style=\"text-align: right;\">\n",
       "      <th></th>\n",
       "      <th>subreddit</th>\n",
       "      <th>title</th>\n",
       "      <th>score</th>\n",
       "      <th>num_comments</th>\n",
       "      <th>id</th>\n",
       "      <th>url</th>\n",
       "    </tr>\n",
       "  </thead>\n",
       "  <tbody>\n",
       "    <tr>\n",
       "      <th>0</th>\n",
       "      <td>politics</td>\n",
       "      <td>Dr. Oz Splits from Trump on Tylenol After Auti...</td>\n",
       "      <td>9838</td>\n",
       "      <td>546</td>\n",
       "      <td>1nouvbe</td>\n",
       "      <td>https://www.thedailybeast.com/dr-oz-splits-fro...</td>\n",
       "    </tr>\n",
       "    <tr>\n",
       "      <th>1</th>\n",
       "      <td>politics</td>\n",
       "      <td>Charlie Kirk was a divisive far-right podcaste...</td>\n",
       "      <td>38345</td>\n",
       "      <td>3633</td>\n",
       "      <td>1noqbhr</td>\n",
       "      <td>https://www.theguardian.com/commentisfree/2025...</td>\n",
       "    </tr>\n",
       "    <tr>\n",
       "      <th>2</th>\n",
       "      <td>politics</td>\n",
       "      <td>76 percent of Americans say Trump does not des...</td>\n",
       "      <td>5631</td>\n",
       "      <td>357</td>\n",
       "      <td>1novrvc</td>\n",
       "      <td>https://www.washingtonpost.com/politics/2025/0...</td>\n",
       "    </tr>\n",
       "    <tr>\n",
       "      <th>3</th>\n",
       "      <td>politics</td>\n",
       "      <td>Unlike other Dems, AOC refuses to join in whit...</td>\n",
       "      <td>15675</td>\n",
       "      <td>510</td>\n",
       "      <td>1nonj9g</td>\n",
       "      <td>https://www.peoplesworld.org/article/unlike-ot...</td>\n",
       "    </tr>\n",
       "    <tr>\n",
       "      <th>4</th>\n",
       "      <td>politics</td>\n",
       "      <td>Trump's big UN speech received with awkward la...</td>\n",
       "      <td>26152</td>\n",
       "      <td>1641</td>\n",
       "      <td>1nok4av</td>\n",
       "      <td>https://inews.co.uk/news/world/trumps-big-un-s...</td>\n",
       "    </tr>\n",
       "  </tbody>\n",
       "</table>\n",
       "</div>"
      ],
      "text/plain": [
       "  subreddit                                              title  score  \\\n",
       "0  politics  Dr. Oz Splits from Trump on Tylenol After Auti...   9838   \n",
       "1  politics  Charlie Kirk was a divisive far-right podcaste...  38345   \n",
       "2  politics  76 percent of Americans say Trump does not des...   5631   \n",
       "3  politics  Unlike other Dems, AOC refuses to join in whit...  15675   \n",
       "4  politics  Trump's big UN speech received with awkward la...  26152   \n",
       "\n",
       "   num_comments       id                                                url  \n",
       "0           546  1nouvbe  https://www.thedailybeast.com/dr-oz-splits-fro...  \n",
       "1          3633  1noqbhr  https://www.theguardian.com/commentisfree/2025...  \n",
       "2           357  1novrvc  https://www.washingtonpost.com/politics/2025/0...  \n",
       "3           510  1nonj9g  https://www.peoplesworld.org/article/unlike-ot...  \n",
       "4          1641  1nok4av  https://inews.co.uk/news/world/trumps-big-un-s...  "
      ]
     },
     "execution_count": 25,
     "metadata": {},
     "output_type": "execute_result"
    }
   ],
   "source": [
    "df_posts.head(5)"
   ]
  },
  {
   "cell_type": "code",
   "execution_count": 28,
   "id": "c5570ca4-beab-4c0e-8065-53eb7f6ee035",
   "metadata": {},
   "outputs": [],
   "source": [
    "# Definimos subset de posts \"más relevantes\"\n",
    "#    Aquí usamos: top por 'score' \n",
    "#    Tomamos los 10 mejores por subreddit para tener variedad \n",
    "\n",
    "subset = (\n",
    "    df_posts.sort_values(\"score\", ascending=False)\n",
    "            .groupby(\"subreddit\")\n",
    "            .head(10)  \n",
    "            .reset_index(drop=True)\n",
    ")"
   ]
  },
  {
   "cell_type": "code",
   "execution_count": 31,
   "id": "184b6a3a-1a5d-495c-9020-f1e4171bf483",
   "metadata": {},
   "outputs": [],
   "source": [
    "# Recogemos 5 comentarios por post (top/best)\n",
    "\n",
    "rows_comments = []\n",
    "for _, row in subset.iterrows():\n",
    "    post_id = row[\"id\"]\n",
    "    submission = reddit.submission(id=post_id)\n",
    "    submission.comment_sort = \"best\"  \n",
    "    submission.comments.replace_more(limit=0)  \n",
    "\n",
    "    # Tomar los primeros 5 comentarios\n",
    "    for c in submission.comments[:5]:\n",
    "        rows_comments.append({\n",
    "            \"post_id\": post_id,     \n",
    "            \"body\": c.body,         \n",
    "            \"score\": c.score      \n",
    "        })\n"
   ]
  },
  {
   "cell_type": "code",
   "execution_count": 32,
   "id": "ff345735-2430-4b8f-828f-7f6dbef0b777",
   "metadata": {},
   "outputs": [
    {
     "data": {
      "text/html": [
       "<div>\n",
       "<style scoped>\n",
       "    .dataframe tbody tr th:only-of-type {\n",
       "        vertical-align: middle;\n",
       "    }\n",
       "\n",
       "    .dataframe tbody tr th {\n",
       "        vertical-align: top;\n",
       "    }\n",
       "\n",
       "    .dataframe thead th {\n",
       "        text-align: right;\n",
       "    }\n",
       "</style>\n",
       "<table border=\"1\" class=\"dataframe\">\n",
       "  <thead>\n",
       "    <tr style=\"text-align: right;\">\n",
       "      <th></th>\n",
       "      <th>post_id</th>\n",
       "      <th>body</th>\n",
       "      <th>score</th>\n",
       "    </tr>\n",
       "  </thead>\n",
       "  <tbody>\n",
       "    <tr>\n",
       "      <th>0</th>\n",
       "      <td>1nocisz</td>\n",
       "      <td>Why the bloody hell does anyone want an AI pope?</td>\n",
       "      <td>10090</td>\n",
       "    </tr>\n",
       "    <tr>\n",
       "      <th>1</th>\n",
       "      <td>1nocisz</td>\n",
       "      <td>I heard AI is going for white collar workers’ ...</td>\n",
       "      <td>1800</td>\n",
       "    </tr>\n",
       "    <tr>\n",
       "      <th>2</th>\n",
       "      <td>1nocisz</td>\n",
       "      <td>He made the right call, especially considering...</td>\n",
       "      <td>1189</td>\n",
       "    </tr>\n",
       "    <tr>\n",
       "      <th>3</th>\n",
       "      <td>1nocisz</td>\n",
       "      <td>Understandable because who the fuck wants an A...</td>\n",
       "      <td>996</td>\n",
       "    </tr>\n",
       "    <tr>\n",
       "      <th>4</th>\n",
       "      <td>1nocisz</td>\n",
       "      <td>So...  there's no holy ghost in the shell...</td>\n",
       "      <td>54</td>\n",
       "    </tr>\n",
       "  </tbody>\n",
       "</table>\n",
       "</div>"
      ],
      "text/plain": [
       "   post_id                                               body  score\n",
       "0  1nocisz   Why the bloody hell does anyone want an AI pope?  10090\n",
       "1  1nocisz  I heard AI is going for white collar workers’ ...   1800\n",
       "2  1nocisz  He made the right call, especially considering...   1189\n",
       "3  1nocisz  Understandable because who the fuck wants an A...    996\n",
       "4  1nocisz       So...  there's no holy ghost in the shell...     54"
      ]
     },
     "execution_count": 32,
     "metadata": {},
     "output_type": "execute_result"
    }
   ],
   "source": [
    "# 4) Almacenar comentarios\n",
    "df_comments = pd.DataFrame(rows_comments, columns=[\"post_id\", \"body\", \"score\"])\n",
    "df_comments.head(5)"
   ]
  },
  {
   "cell_type": "code",
   "execution_count": 33,
   "id": "d04a5c21-fa97-4cbd-9af2-04973790b407",
   "metadata": {},
   "outputs": [
    {
     "name": "stdout",
     "output_type": "stream",
     "text": [
      "Guardados 150 comentarios en: /Users/freddyzutachavez/Documents/GitHub/web_scrapping/output/comments_reddit.csv\n"
     ]
    }
   ],
   "source": [
    "#Guardas en csv\n",
    "df_comments.to_csv(comments_csv, index=False, encoding=\"utf-8\")\n",
    "print(f\"Guardados {len(df_comments)} comentarios en: {comments_csv}\")"
   ]
  },
  {
   "cell_type": "markdown",
   "id": "97b2ce5c-0faa-4ac1-a396-fdf97421596b",
   "metadata": {},
   "source": [
    "## 6. Storage"
   ]
  },
  {
   "cell_type": "code",
   "execution_count": 35,
   "id": "7562ce95-0fe4-4f7f-8a05-73233704f6b7",
   "metadata": {},
   "outputs": [],
   "source": [
    "# Directorio y archivos\n",
    "comments_linked_csv = os.path.join(output_dir, \"comments_with_posts.csv\")"
   ]
  },
  {
   "cell_type": "code",
   "execution_count": 37,
   "id": "acfa8db4-285f-4ca5-af89-8b3ef87965fd",
   "metadata": {},
   "outputs": [
    {
     "data": {
      "text/html": [
       "<div>\n",
       "<style scoped>\n",
       "    .dataframe tbody tr th:only-of-type {\n",
       "        vertical-align: middle;\n",
       "    }\n",
       "\n",
       "    .dataframe tbody tr th {\n",
       "        vertical-align: top;\n",
       "    }\n",
       "\n",
       "    .dataframe thead th {\n",
       "        text-align: right;\n",
       "    }\n",
       "</style>\n",
       "<table border=\"1\" class=\"dataframe\">\n",
       "  <thead>\n",
       "    <tr style=\"text-align: right;\">\n",
       "      <th></th>\n",
       "      <th>subreddit</th>\n",
       "      <th>title</th>\n",
       "      <th>score</th>\n",
       "      <th>num_comments</th>\n",
       "      <th>post_id</th>\n",
       "      <th>url</th>\n",
       "    </tr>\n",
       "  </thead>\n",
       "  <tbody>\n",
       "    <tr>\n",
       "      <th>0</th>\n",
       "      <td>politics</td>\n",
       "      <td>Dr. Oz Splits from Trump on Tylenol After Auti...</td>\n",
       "      <td>9838</td>\n",
       "      <td>546</td>\n",
       "      <td>1nouvbe</td>\n",
       "      <td>https://www.thedailybeast.com/dr-oz-splits-fro...</td>\n",
       "    </tr>\n",
       "    <tr>\n",
       "      <th>1</th>\n",
       "      <td>politics</td>\n",
       "      <td>Charlie Kirk was a divisive far-right podcaste...</td>\n",
       "      <td>38345</td>\n",
       "      <td>3633</td>\n",
       "      <td>1noqbhr</td>\n",
       "      <td>https://www.theguardian.com/commentisfree/2025...</td>\n",
       "    </tr>\n",
       "    <tr>\n",
       "      <th>2</th>\n",
       "      <td>politics</td>\n",
       "      <td>76 percent of Americans say Trump does not des...</td>\n",
       "      <td>5631</td>\n",
       "      <td>357</td>\n",
       "      <td>1novrvc</td>\n",
       "      <td>https://www.washingtonpost.com/politics/2025/0...</td>\n",
       "    </tr>\n",
       "    <tr>\n",
       "      <th>3</th>\n",
       "      <td>politics</td>\n",
       "      <td>Unlike other Dems, AOC refuses to join in whit...</td>\n",
       "      <td>15675</td>\n",
       "      <td>510</td>\n",
       "      <td>1nonj9g</td>\n",
       "      <td>https://www.peoplesworld.org/article/unlike-ot...</td>\n",
       "    </tr>\n",
       "    <tr>\n",
       "      <th>4</th>\n",
       "      <td>politics</td>\n",
       "      <td>Trump's big UN speech received with awkward la...</td>\n",
       "      <td>26152</td>\n",
       "      <td>1641</td>\n",
       "      <td>1nok4av</td>\n",
       "      <td>https://inews.co.uk/news/world/trumps-big-un-s...</td>\n",
       "    </tr>\n",
       "  </tbody>\n",
       "</table>\n",
       "</div>"
      ],
      "text/plain": [
       "  subreddit                                              title  score  \\\n",
       "0  politics  Dr. Oz Splits from Trump on Tylenol After Auti...   9838   \n",
       "1  politics  Charlie Kirk was a divisive far-right podcaste...  38345   \n",
       "2  politics  76 percent of Americans say Trump does not des...   5631   \n",
       "3  politics  Unlike other Dems, AOC refuses to join in whit...  15675   \n",
       "4  politics  Trump's big UN speech received with awkward la...  26152   \n",
       "\n",
       "   num_comments  post_id                                                url  \n",
       "0           546  1nouvbe  https://www.thedailybeast.com/dr-oz-splits-fro...  \n",
       "1          3633  1noqbhr  https://www.theguardian.com/commentisfree/2025...  \n",
       "2           357  1novrvc  https://www.washingtonpost.com/politics/2025/0...  \n",
       "3           510  1nonj9g  https://www.peoplesworld.org/article/unlike-ot...  \n",
       "4          1641  1nok4av  https://inews.co.uk/news/world/trumps-big-un-s...  "
      ]
     },
     "execution_count": 37,
     "metadata": {},
     "output_type": "execute_result"
    }
   ],
   "source": [
    "# Cargamos posts y preparar clave para merge\n",
    "df_posts = pd.read_csv(posts_csv).rename(columns={\"id\": \"post_id\"})\n",
    "df_posts.head(5)"
   ]
  },
  {
   "cell_type": "code",
   "execution_count": 38,
   "id": "8d0ae616-f633-4a22-be87-7d34b6e41522",
   "metadata": {},
   "outputs": [],
   "source": [
    "# Seleccionamos metadatos útiles del post\n",
    "post_cols = [\"post_id\", \"subreddit\", \"title\", \"url\", \"score\", \"num_comments\"]"
   ]
  },
  {
   "cell_type": "code",
   "execution_count": 40,
   "id": "ead1c70f-456d-497b-a1f1-9cfec17b33bc",
   "metadata": {},
   "outputs": [],
   "source": [
    "# Merge: cada comentario con su post (por post_id)\n",
    "df_comments_linked = df_comments.merge(df_posts[post_cols], on=\"post_id\", how=\"left\")"
   ]
  },
  {
   "cell_type": "code",
   "execution_count": 41,
   "id": "6cf75b9f-4dde-44b2-a910-e1d1df3f43a5",
   "metadata": {},
   "outputs": [
    {
     "data": {
      "text/html": [
       "<div>\n",
       "<style scoped>\n",
       "    .dataframe tbody tr th:only-of-type {\n",
       "        vertical-align: middle;\n",
       "    }\n",
       "\n",
       "    .dataframe tbody tr th {\n",
       "        vertical-align: top;\n",
       "    }\n",
       "\n",
       "    .dataframe thead th {\n",
       "        text-align: right;\n",
       "    }\n",
       "</style>\n",
       "<table border=\"1\" class=\"dataframe\">\n",
       "  <thead>\n",
       "    <tr style=\"text-align: right;\">\n",
       "      <th></th>\n",
       "      <th>post_id</th>\n",
       "      <th>body</th>\n",
       "      <th>score_x</th>\n",
       "      <th>subreddit</th>\n",
       "      <th>title</th>\n",
       "      <th>url</th>\n",
       "      <th>score_y</th>\n",
       "      <th>num_comments</th>\n",
       "    </tr>\n",
       "  </thead>\n",
       "  <tbody>\n",
       "    <tr>\n",
       "      <th>0</th>\n",
       "      <td>1nocisz</td>\n",
       "      <td>Why the bloody hell does anyone want an AI pope?</td>\n",
       "      <td>10090</td>\n",
       "      <td>worldnews</td>\n",
       "      <td>Pope Leo refuses to authorise an AI Pope and d...</td>\n",
       "      <td>https://www.pcgamer.com/software/ai/pope-leo-r...</td>\n",
       "      <td>61282</td>\n",
       "      <td>1389</td>\n",
       "    </tr>\n",
       "    <tr>\n",
       "      <th>1</th>\n",
       "      <td>1nocisz</td>\n",
       "      <td>I heard AI is going for white collar workers’ ...</td>\n",
       "      <td>1800</td>\n",
       "      <td>worldnews</td>\n",
       "      <td>Pope Leo refuses to authorise an AI Pope and d...</td>\n",
       "      <td>https://www.pcgamer.com/software/ai/pope-leo-r...</td>\n",
       "      <td>61282</td>\n",
       "      <td>1389</td>\n",
       "    </tr>\n",
       "    <tr>\n",
       "      <th>2</th>\n",
       "      <td>1nocisz</td>\n",
       "      <td>He made the right call, especially considering...</td>\n",
       "      <td>1189</td>\n",
       "      <td>worldnews</td>\n",
       "      <td>Pope Leo refuses to authorise an AI Pope and d...</td>\n",
       "      <td>https://www.pcgamer.com/software/ai/pope-leo-r...</td>\n",
       "      <td>61282</td>\n",
       "      <td>1389</td>\n",
       "    </tr>\n",
       "    <tr>\n",
       "      <th>3</th>\n",
       "      <td>1nocisz</td>\n",
       "      <td>Understandable because who the fuck wants an A...</td>\n",
       "      <td>996</td>\n",
       "      <td>worldnews</td>\n",
       "      <td>Pope Leo refuses to authorise an AI Pope and d...</td>\n",
       "      <td>https://www.pcgamer.com/software/ai/pope-leo-r...</td>\n",
       "      <td>61282</td>\n",
       "      <td>1389</td>\n",
       "    </tr>\n",
       "    <tr>\n",
       "      <th>4</th>\n",
       "      <td>1nocisz</td>\n",
       "      <td>So...  there's no holy ghost in the shell...</td>\n",
       "      <td>54</td>\n",
       "      <td>worldnews</td>\n",
       "      <td>Pope Leo refuses to authorise an AI Pope and d...</td>\n",
       "      <td>https://www.pcgamer.com/software/ai/pope-leo-r...</td>\n",
       "      <td>61282</td>\n",
       "      <td>1389</td>\n",
       "    </tr>\n",
       "  </tbody>\n",
       "</table>\n",
       "</div>"
      ],
      "text/plain": [
       "   post_id                                               body  score_x  \\\n",
       "0  1nocisz   Why the bloody hell does anyone want an AI pope?    10090   \n",
       "1  1nocisz  I heard AI is going for white collar workers’ ...     1800   \n",
       "2  1nocisz  He made the right call, especially considering...     1189   \n",
       "3  1nocisz  Understandable because who the fuck wants an A...      996   \n",
       "4  1nocisz       So...  there's no holy ghost in the shell...       54   \n",
       "\n",
       "   subreddit                                              title  \\\n",
       "0  worldnews  Pope Leo refuses to authorise an AI Pope and d...   \n",
       "1  worldnews  Pope Leo refuses to authorise an AI Pope and d...   \n",
       "2  worldnews  Pope Leo refuses to authorise an AI Pope and d...   \n",
       "3  worldnews  Pope Leo refuses to authorise an AI Pope and d...   \n",
       "4  worldnews  Pope Leo refuses to authorise an AI Pope and d...   \n",
       "\n",
       "                                                 url  score_y  num_comments  \n",
       "0  https://www.pcgamer.com/software/ai/pope-leo-r...    61282          1389  \n",
       "1  https://www.pcgamer.com/software/ai/pope-leo-r...    61282          1389  \n",
       "2  https://www.pcgamer.com/software/ai/pope-leo-r...    61282          1389  \n",
       "3  https://www.pcgamer.com/software/ai/pope-leo-r...    61282          1389  \n",
       "4  https://www.pcgamer.com/software/ai/pope-leo-r...    61282          1389  "
      ]
     },
     "execution_count": 41,
     "metadata": {},
     "output_type": "execute_result"
    }
   ],
   "source": [
    "df_comments_linked.head(5)"
   ]
  },
  {
   "cell_type": "code",
   "execution_count": 45,
   "id": "851c0b8e-a2ac-4162-898a-ab9b58e54122",
   "metadata": {},
   "outputs": [],
   "source": [
    "# Guardamos comentarios + metadatos del post\n",
    "df_comments_linked.to_csv(comments_linked_csv, index=False, encoding=\"utf-8\")\n"
   ]
  },
  {
   "cell_type": "markdown",
   "id": "1cbf76b7-5cd6-4ae6-a9b2-faf73f6a10bb",
   "metadata": {},
   "source": [
    "### Fin de la parte 1"
   ]
  }
 ],
 "metadata": {
  "kernelspec": {
   "display_name": "Python 3 (ipykernel)",
   "language": "python",
   "name": "python3"
  },
  "language_info": {
   "codemirror_mode": {
    "name": "ipython",
    "version": 3
   },
   "file_extension": ".py",
   "mimetype": "text/x-python",
   "name": "python",
   "nbconvert_exporter": "python",
   "pygments_lexer": "ipython3",
   "version": "3.10.18"
  }
 },
 "nbformat": 4,
 "nbformat_minor": 5
}
